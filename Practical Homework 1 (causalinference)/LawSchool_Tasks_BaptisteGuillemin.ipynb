{
  "cells": [
    {
      "cell_type": "markdown",
      "id": "0d80f49e",
      "metadata": {
        "id": "0d80f49e"
      },
      "source": [
        "##### Install causalinference toolkit"
      ]
    },
    {
      "cell_type": "code",
      "source": [
        "pip install causalinference"
      ],
      "metadata": {
        "colab": {
          "base_uri": "https://localhost:8080/"
        },
        "id": "aO-MBfouk_BM",
        "outputId": "224cbaff-20eb-4770-88a2-faa11306c3a2"
      },
      "id": "aO-MBfouk_BM",
      "execution_count": 1,
      "outputs": [
        {
          "output_type": "stream",
          "name": "stdout",
          "text": [
            "Looking in indexes: https://pypi.org/simple, https://us-python.pkg.dev/colab-wheels/public/simple/\n",
            "Collecting causalinference\n",
            "  Downloading CausalInference-0.1.3-py3-none-any.whl (51 kB)\n",
            "\u001b[2K     \u001b[90m━━━━━━━━━━━━━━━━━━━━━━━━━━━━━━━━━━━━━━━━\u001b[0m \u001b[32m51.1/51.1 KB\u001b[0m \u001b[31m2.8 MB/s\u001b[0m eta \u001b[36m0:00:00\u001b[0m\n",
            "\u001b[?25hInstalling collected packages: causalinference\n",
            "Successfully installed causalinference-0.1.3\n"
          ]
        }
      ]
    },
    {
      "cell_type": "markdown",
      "id": "267ec598",
      "metadata": {
        "id": "267ec598"
      },
      "source": [
        "##### Import pandas and CausalModel"
      ]
    },
    {
      "cell_type": "code",
      "execution_count": 2,
      "id": "6516987b",
      "metadata": {
        "id": "6516987b"
      },
      "outputs": [],
      "source": [
        "import numpy as np\n",
        "import pandas as pd\n",
        "from causalinference import CausalModel"
      ]
    },
    {
      "cell_type": "markdown",
      "id": "b6eb4b97",
      "metadata": {
        "id": "b6eb4b97"
      },
      "source": [
        "##### Read the law school csv file (law_simplified.csv)\n",
        "You should have uploaded that file into colab"
      ]
    },
    {
      "cell_type": "code",
      "execution_count": 4,
      "id": "872380be",
      "metadata": {
        "colab": {
          "base_uri": "https://localhost:8080/",
          "height": 206
        },
        "id": "872380be",
        "outputId": "505862e4-0210-4614-9a60-642891f63d17"
      },
      "outputs": [
        {
          "output_type": "execute_result",
          "data": {
            "text/plain": [
              "   sex  race  LSAT  UGPA  ZFYA\n",
              "0    0     7  39.0   3.1 -0.98\n",
              "1    0     7  36.0   3.0  0.09\n",
              "2    1     7  30.0   3.1 -0.35\n",
              "3    1     3  39.0   2.2  0.58\n",
              "4    0     7  37.0   3.4 -1.26"
            ],
            "text/html": [
              "\n",
              "  <div id=\"df-30b328e6-4e94-4ae1-b8d5-00505487a6ac\">\n",
              "    <div class=\"colab-df-container\">\n",
              "      <div>\n",
              "<style scoped>\n",
              "    .dataframe tbody tr th:only-of-type {\n",
              "        vertical-align: middle;\n",
              "    }\n",
              "\n",
              "    .dataframe tbody tr th {\n",
              "        vertical-align: top;\n",
              "    }\n",
              "\n",
              "    .dataframe thead th {\n",
              "        text-align: right;\n",
              "    }\n",
              "</style>\n",
              "<table border=\"1\" class=\"dataframe\">\n",
              "  <thead>\n",
              "    <tr style=\"text-align: right;\">\n",
              "      <th></th>\n",
              "      <th>sex</th>\n",
              "      <th>race</th>\n",
              "      <th>LSAT</th>\n",
              "      <th>UGPA</th>\n",
              "      <th>ZFYA</th>\n",
              "    </tr>\n",
              "  </thead>\n",
              "  <tbody>\n",
              "    <tr>\n",
              "      <th>0</th>\n",
              "      <td>0</td>\n",
              "      <td>7</td>\n",
              "      <td>39.0</td>\n",
              "      <td>3.1</td>\n",
              "      <td>-0.98</td>\n",
              "    </tr>\n",
              "    <tr>\n",
              "      <th>1</th>\n",
              "      <td>0</td>\n",
              "      <td>7</td>\n",
              "      <td>36.0</td>\n",
              "      <td>3.0</td>\n",
              "      <td>0.09</td>\n",
              "    </tr>\n",
              "    <tr>\n",
              "      <th>2</th>\n",
              "      <td>1</td>\n",
              "      <td>7</td>\n",
              "      <td>30.0</td>\n",
              "      <td>3.1</td>\n",
              "      <td>-0.35</td>\n",
              "    </tr>\n",
              "    <tr>\n",
              "      <th>3</th>\n",
              "      <td>1</td>\n",
              "      <td>3</td>\n",
              "      <td>39.0</td>\n",
              "      <td>2.2</td>\n",
              "      <td>0.58</td>\n",
              "    </tr>\n",
              "    <tr>\n",
              "      <th>4</th>\n",
              "      <td>0</td>\n",
              "      <td>7</td>\n",
              "      <td>37.0</td>\n",
              "      <td>3.4</td>\n",
              "      <td>-1.26</td>\n",
              "    </tr>\n",
              "  </tbody>\n",
              "</table>\n",
              "</div>\n",
              "      <button class=\"colab-df-convert\" onclick=\"convertToInteractive('df-30b328e6-4e94-4ae1-b8d5-00505487a6ac')\"\n",
              "              title=\"Convert this dataframe to an interactive table.\"\n",
              "              style=\"display:none;\">\n",
              "        \n",
              "  <svg xmlns=\"http://www.w3.org/2000/svg\" height=\"24px\"viewBox=\"0 0 24 24\"\n",
              "       width=\"24px\">\n",
              "    <path d=\"M0 0h24v24H0V0z\" fill=\"none\"/>\n",
              "    <path d=\"M18.56 5.44l.94 2.06.94-2.06 2.06-.94-2.06-.94-.94-2.06-.94 2.06-2.06.94zm-11 1L8.5 8.5l.94-2.06 2.06-.94-2.06-.94L8.5 2.5l-.94 2.06-2.06.94zm10 10l.94 2.06.94-2.06 2.06-.94-2.06-.94-.94-2.06-.94 2.06-2.06.94z\"/><path d=\"M17.41 7.96l-1.37-1.37c-.4-.4-.92-.59-1.43-.59-.52 0-1.04.2-1.43.59L10.3 9.45l-7.72 7.72c-.78.78-.78 2.05 0 2.83L4 21.41c.39.39.9.59 1.41.59.51 0 1.02-.2 1.41-.59l7.78-7.78 2.81-2.81c.8-.78.8-2.07 0-2.86zM5.41 20L4 18.59l7.72-7.72 1.47 1.35L5.41 20z\"/>\n",
              "  </svg>\n",
              "      </button>\n",
              "      \n",
              "  <style>\n",
              "    .colab-df-container {\n",
              "      display:flex;\n",
              "      flex-wrap:wrap;\n",
              "      gap: 12px;\n",
              "    }\n",
              "\n",
              "    .colab-df-convert {\n",
              "      background-color: #E8F0FE;\n",
              "      border: none;\n",
              "      border-radius: 50%;\n",
              "      cursor: pointer;\n",
              "      display: none;\n",
              "      fill: #1967D2;\n",
              "      height: 32px;\n",
              "      padding: 0 0 0 0;\n",
              "      width: 32px;\n",
              "    }\n",
              "\n",
              "    .colab-df-convert:hover {\n",
              "      background-color: #E2EBFA;\n",
              "      box-shadow: 0px 1px 2px rgba(60, 64, 67, 0.3), 0px 1px 3px 1px rgba(60, 64, 67, 0.15);\n",
              "      fill: #174EA6;\n",
              "    }\n",
              "\n",
              "    [theme=dark] .colab-df-convert {\n",
              "      background-color: #3B4455;\n",
              "      fill: #D2E3FC;\n",
              "    }\n",
              "\n",
              "    [theme=dark] .colab-df-convert:hover {\n",
              "      background-color: #434B5C;\n",
              "      box-shadow: 0px 1px 3px 1px rgba(0, 0, 0, 0.15);\n",
              "      filter: drop-shadow(0px 1px 2px rgba(0, 0, 0, 0.3));\n",
              "      fill: #FFFFFF;\n",
              "    }\n",
              "  </style>\n",
              "\n",
              "      <script>\n",
              "        const buttonEl =\n",
              "          document.querySelector('#df-30b328e6-4e94-4ae1-b8d5-00505487a6ac button.colab-df-convert');\n",
              "        buttonEl.style.display =\n",
              "          google.colab.kernel.accessAllowed ? 'block' : 'none';\n",
              "\n",
              "        async function convertToInteractive(key) {\n",
              "          const element = document.querySelector('#df-30b328e6-4e94-4ae1-b8d5-00505487a6ac');\n",
              "          const dataTable =\n",
              "            await google.colab.kernel.invokeFunction('convertToInteractive',\n",
              "                                                     [key], {});\n",
              "          if (!dataTable) return;\n",
              "\n",
              "          const docLinkHtml = 'Like what you see? Visit the ' +\n",
              "            '<a target=\"_blank\" href=https://colab.research.google.com/notebooks/data_table.ipynb>data table notebook</a>'\n",
              "            + ' to learn more about interactive tables.';\n",
              "          element.innerHTML = '';\n",
              "          dataTable['output_type'] = 'display_data';\n",
              "          await google.colab.output.renderOutput(dataTable, element);\n",
              "          const docLink = document.createElement('div');\n",
              "          docLink.innerHTML = docLinkHtml;\n",
              "          element.appendChild(docLink);\n",
              "        }\n",
              "      </script>\n",
              "    </div>\n",
              "  </div>\n",
              "  "
            ]
          },
          "metadata": {},
          "execution_count": 4
        }
      ],
      "source": [
        "df = pd.read_csv(\"law_simplified.csv\")\n",
        "df['sex'] = df['sex']-1\n",
        "df.head()"
      ]
    },
    {
      "cell_type": "markdown",
      "id": "6b6f9c93",
      "metadata": {
        "id": "6b6f9c93"
      },
      "source": [
        "##### CausalModel class requires three numpy arrays: \n",
        "    A (sensitive attribute with 0 and 1 values), \n",
        "    X (for the covariates). For this example consider LSAT and UGPA as covariates\n",
        "    Y (outcome)"
      ]
    },
    {
      "cell_type": "markdown",
      "id": "075907b3",
      "metadata": {
        "id": "075907b3"
      },
      "source": [
        "##### Create those arrays from the raw dataframe, and create the CausalModel"
      ]
    },
    {
      "cell_type": "code",
      "execution_count": 5,
      "id": "33d99c6d",
      "metadata": {
        "id": "33d99c6d"
      },
      "outputs": [],
      "source": [
        "#CausalModel takes as inputs three NumPy arrays: \n",
        "# Y, an N-vector of observed outcomes;\n",
        "# A, an N-vector of treatment status indicators;\n",
        "# and X, an N-by-K matrix of covariates. \n",
        "\n",
        "A = df['sex'].values\n",
        "X = df[['LSAT', 'UGPA']].values\n",
        "Y = df['ZFYA'].values\n",
        "\n",
        "causal = CausalModel(Y, A, X)"
      ]
    },
    {
      "cell_type": "markdown",
      "id": "b92a34fe",
      "metadata": {
        "id": "b92a34fe"
      },
      "source": [
        "##### Estimate the causal effect using:\n",
        "    Regression\n",
        "    Stratification\n",
        "    Weighting \n",
        "    Matching"
      ]
    },
    {
      "cell_type": "markdown",
      "source": [
        "Estimate the causal effect using Regression"
      ],
      "metadata": {
        "id": "qaWpohYWiQiM"
      },
      "id": "qaWpohYWiQiM"
    },
    {
      "cell_type": "code",
      "execution_count": 8,
      "id": "cd15975e",
      "metadata": {
        "colab": {
          "base_uri": "https://localhost:8080/"
        },
        "id": "cd15975e",
        "outputId": "d4df5726-5f24-4baa-bf69-93174b345bb5"
      },
      "outputs": [
        {
          "output_type": "stream",
          "name": "stdout",
          "text": [
            "\n",
            "Treatment Effect Estimates: OLS\n",
            "\n",
            "                     Est.       S.e.          z      P>|z|      [95% Conf. int.]\n",
            "--------------------------------------------------------------------------------\n",
            "           ATE      0.079      0.012      6.396      0.000      0.054      0.103\n",
            "           ATC      0.069      0.012      5.602      0.000      0.045      0.094\n",
            "           ATT      0.086      0.013      6.820      0.000      0.061      0.110\n",
            "\n"
          ]
        }
      ],
      "source": [
        "causal.est_via_ols()\n",
        "print(causal.estimates)"
      ]
    },
    {
      "cell_type": "markdown",
      "source": [
        "Estimate the causal effect using Stratification"
      ],
      "metadata": {
        "id": "CKDppPkbiLlw"
      },
      "id": "CKDppPkbiLlw"
    },
    {
      "cell_type": "code",
      "source": [
        "causal.est_propensity_s()\n",
        "print(causal.propensity)"
      ],
      "metadata": {
        "colab": {
          "base_uri": "https://localhost:8080/"
        },
        "id": "eO5NqxznhCiB",
        "outputId": "f29feaf9-3519-47a7-9e16-47b35f0b33a3"
      },
      "id": "eO5NqxznhCiB",
      "execution_count": 9,
      "outputs": [
        {
          "output_type": "stream",
          "name": "stdout",
          "text": [
            "\n",
            "Estimated Parameters of Propensity Score\n",
            "\n",
            "                    Coef.       S.e.          z      P>|z|      [95% Conf. int.]\n",
            "--------------------------------------------------------------------------------\n",
            "     Intercept      1.278      0.130      9.833      0.000      1.023      1.532\n",
            "            X1     -0.838      0.036    -23.386      0.000     -0.909     -0.768\n",
            "            X0      0.046      0.003     17.235      0.000      0.041      0.051\n",
            "\n"
          ]
        }
      ]
    },
    {
      "cell_type": "code",
      "source": [
        "causal.trim_s()"
      ],
      "metadata": {
        "id": "aPbZGef8hSNu"
      },
      "id": "aPbZGef8hSNu",
      "execution_count": 10,
      "outputs": []
    },
    {
      "cell_type": "code",
      "source": [
        "causal.stratify_s()\n",
        "print(causal.strata)"
      ],
      "metadata": {
        "colab": {
          "base_uri": "https://localhost:8080/"
        },
        "id": "Y25iu_tAhbZX",
        "outputId": "923d7365-858d-48c8-c856-b9e9c01a6b7a"
      },
      "id": "Y25iu_tAhbZX",
      "execution_count": 11,
      "outputs": [
        {
          "output_type": "stream",
          "name": "stdout",
          "text": [
            "\n",
            "Stratification Summary\n",
            "\n",
            "              Propensity Score         Sample Size     Ave. Propensity   Outcome\n",
            "   Stratum      Min.      Max.  Controls   Treated  Controls   Treated  Raw-diff\n",
            "--------------------------------------------------------------------------------\n",
            "         1     0.260     0.427       853       578     0.392     0.395    -0.046\n",
            "         2     0.428     0.462       731       618     0.446     0.447     0.074\n",
            "         3     0.462     0.503      1440      1336     0.484     0.484     0.024\n",
            "         4     0.504     0.533      1348      1430     0.519     0.519     0.123\n",
            "         5     0.534     0.561      1202      1485     0.548     0.549     0.119\n",
            "         6     0.562     0.591      1123      1473     0.576     0.576     0.104\n",
            "         7     0.591     0.622      1104      1645     0.606     0.606     0.102\n",
            "         8     0.622     0.666      1003      1732     0.642     0.643     0.066\n",
            "         9     0.667     0.700       407       914     0.682     0.682     0.147\n",
            "        10     0.702     0.713       100       218     0.707     0.707    -0.269\n",
            "        11     0.713     0.729        87       265     0.721     0.721     0.117\n",
            "        12     0.730     0.859       137       559     0.759     0.759     0.046\n",
            "\n"
          ]
        }
      ]
    },
    {
      "cell_type": "code",
      "source": [
        "causal.est_via_blocking()\n",
        "print(causal.estimates)"
      ],
      "metadata": {
        "colab": {
          "base_uri": "https://localhost:8080/"
        },
        "id": "dnNNgJyXhg0I",
        "outputId": "fda9a80d-17d1-4c7a-e893-054e5d0e9057"
      },
      "id": "dnNNgJyXhg0I",
      "execution_count": 12,
      "outputs": [
        {
          "output_type": "stream",
          "name": "stdout",
          "text": [
            "\n",
            "Treatment Effect Estimates: Blocking\n",
            "\n",
            "                     Est.       S.e.          z      P>|z|      [95% Conf. int.]\n",
            "--------------------------------------------------------------------------------\n",
            "           ATE      0.076      0.012      6.151      0.000      0.052      0.100\n",
            "           ATC      0.072      0.012      5.807      0.000      0.048      0.096\n",
            "           ATT      0.079      0.013      6.213      0.000      0.054      0.103\n",
            "\n"
          ]
        },
        {
          "output_type": "stream",
          "name": "stderr",
          "text": [
            "/usr/local/lib/python3.8/dist-packages/causalinference/estimators/ols.py:21: FutureWarning: `rcond` parameter will change to the default of machine precision times ``max(M, N)`` where M and N are the input matrix dimensions.\n",
            "To use the future default and silence this warning we advise to pass `rcond=None`, to keep using the old, explicitly pass `rcond=-1`.\n",
            "  olscoef = np.linalg.lstsq(Z, Y)[0]\n"
          ]
        }
      ]
    },
    {
      "cell_type": "markdown",
      "source": [
        "Estimate the causal effect using Weighting and Matching"
      ],
      "metadata": {
        "id": "gjc5jVbjiARw"
      },
      "id": "gjc5jVbjiARw"
    },
    {
      "cell_type": "code",
      "source": [
        "causal.est_via_weighting()\n",
        "causal.est_via_matching()\n",
        "print(causal.estimates)"
      ],
      "metadata": {
        "colab": {
          "base_uri": "https://localhost:8080/"
        },
        "id": "ZINrc1WChnH4",
        "outputId": "190cd233-3957-4f2f-e361-b237a0d65a8a"
      },
      "id": "ZINrc1WChnH4",
      "execution_count": 13,
      "outputs": [
        {
          "output_type": "stream",
          "name": "stderr",
          "text": [
            "/usr/local/lib/python3.8/dist-packages/causalinference/estimators/weighting.py:23: FutureWarning: `rcond` parameter will change to the default of machine precision times ``max(M, N)`` where M and N are the input matrix dimensions.\n",
            "To use the future default and silence this warning we advise to pass `rcond=None`, to keep using the old, explicitly pass `rcond=-1`.\n",
            "  wlscoef = np.linalg.lstsq(Z_w, Y_w)[0]\n"
          ]
        },
        {
          "output_type": "stream",
          "name": "stdout",
          "text": [
            "\n",
            "Treatment Effect Estimates: Blocking\n",
            "\n",
            "                     Est.       S.e.          z      P>|z|      [95% Conf. int.]\n",
            "--------------------------------------------------------------------------------\n",
            "           ATE      0.076      0.012      6.151      0.000      0.052      0.100\n",
            "           ATC      0.072      0.012      5.807      0.000      0.048      0.096\n",
            "           ATT      0.079      0.013      6.213      0.000      0.054      0.103\n",
            "\n",
            "Treatment Effect Estimates: Weighting\n",
            "\n",
            "                     Est.       S.e.          z      P>|z|      [95% Conf. int.]\n",
            "--------------------------------------------------------------------------------\n",
            "           ATE      0.077      0.012      6.290      0.000      0.053      0.101\n",
            "\n",
            "Treatment Effect Estimates: Matching\n",
            "\n",
            "                     Est.       S.e.          z      P>|z|      [95% Conf. int.]\n",
            "--------------------------------------------------------------------------------\n",
            "           ATE      0.074      0.013      5.570      0.000      0.048      0.100\n",
            "           ATC      0.070      0.014      5.099      0.000      0.043      0.097\n",
            "           ATT      0.078      0.014      5.516      0.000      0.050      0.105\n",
            "\n"
          ]
        }
      ]
    }
  ],
  "metadata": {
    "kernelspec": {
      "display_name": "aif360-python-3.7",
      "language": "python",
      "name": "aif360-python-3.7"
    },
    "language_info": {
      "codemirror_mode": {
        "name": "ipython",
        "version": 3
      },
      "file_extension": ".py",
      "mimetype": "text/x-python",
      "name": "python",
      "nbconvert_exporter": "python",
      "pygments_lexer": "ipython3",
      "version": "3.7.13"
    },
    "colab": {
      "provenance": []
    }
  },
  "nbformat": 4,
  "nbformat_minor": 5
}